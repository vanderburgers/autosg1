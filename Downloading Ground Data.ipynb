{
 "cells": [
  {
   "cell_type": "code",
   "execution_count": 226,
   "id": "4c6d1a1c",
   "metadata": {},
   "outputs": [],
   "source": [
    "# Modules\n",
    "\n",
    "# Arrays and handling data\n",
    "import numpy as np\n",
    "import pandas as pd\n",
    "\n",
    "from astropy.io import fits # Astronomical files\n",
    "from astropy.wcs import WCS # Converting between pixels and WCS\n",
    "\n",
    "# Plotting data\n",
    "import matplotlib\n",
    "from matplotlib import pyplot as plot\n",
    "\n",
    " # Pulling data\n",
    "import requests\n",
    "#import urllib.request\n",
    "import json\n",
    "from urllib.parse import quote as urlencode   \n",
    "\n",
    "# Accessing local files\n",
    "#import sys\n",
    "#import io\n",
    "\n",
    "#import time # Timers and waiting\n",
    "\n",
    "from photutils.aperture import CircularAperture # Creating apertures\n",
    "#from astropy.coordinates import SkyCoord"
   ]
  },
  {
   "cell_type": "code",
   "execution_count": 288,
   "id": "c7310d89",
   "metadata": {},
   "outputs": [],
   "source": [
    "# Getting ra, dec and radius from TIC ID from the TIO Catalog\n",
    "\n",
    "tic_ID = \"TIC 155657581\" # SIMBAD4 flickers really brightly so it should be easy to spot\n",
    "\n",
    "ra = \"206.395293725348\"\n",
    "dec = \"79.3967479665581\"\n",
    "radius = \"0.1\" # Probably search radius"
   ]
  },
  {
   "cell_type": "code",
   "execution_count": 290,
   "id": "bf5bab08",
   "metadata": {},
   "outputs": [],
   "source": [
    "# Query using MAST to get the cutout and all the stars inside the cutout\n",
    "\n",
    "def mast_query(request):\n",
    "    request_url='https://mast.stsci.edu/api/v0/invoke' # Base URL\n",
    "    \n",
    "    version = \".\".join(map(str, sys.version_info[:3])) # Grab Python version\n",
    " \n",
    "    headers = { # Create HTTP header variables\n",
    "        \"Content-type\": \"application/x-www-form-urlencoded\",\n",
    "        \"Accept\": \"text/plain\",\n",
    "        \"User-agent\": \"python-requests/\" + version\n",
    "    }\n",
    "    \n",
    "    # Encoding the request as a JSON string\n",
    "    \n",
    "    req_string = json.dumps(request)\n",
    "    req_string = urlencode(req_string)\n",
    "    \n",
    "    response = requests.post(request_url, data = \"request=\" + req_string, headers = headers) # Perform the HTTP request\n",
    "    \n",
    "    # Pull out the headers and response content\n",
    "    head = response.headers # Content where head is the response HTTP headers\n",
    "    content = response.content.decode('utf-8') # Returned data\n",
    "    \n",
    "    return head, content\n",
    "\n",
    "'''\n",
    "def tic_cone_search():\n",
    "    request = {\n",
    "        \"service\": \"Mast.Catalogs.Tic.Cone\",\n",
    "        \"params\": {\n",
    "            \"ra\": ra,\n",
    "            \"dec\": dec,\n",
    "            \"radius\": radius\n",
    "        },\n",
    "        \"format\":\"json\",\n",
    "        \"timeout\": 10\n",
    "    }   \n",
    "    \n",
    "    headers, out_string = mast_query(request)\n",
    "    out_data = json.loads(out_string)\n",
    "    return out_data\n",
    "'''\n",
    "\n",
    "def tic_advanced_search_position_rows():\n",
    "    request = {\"service\": \"Mast.Catalogs.Filtered.Tic.Position.Rows\",\n",
    "               \"format\": \"json\",\n",
    "               \"params\": {\n",
    "                   \"columns\": \"ID, ra, dec\",\n",
    "                   \"filters\": [],\n",
    "                   \"ra\": ra,\n",
    "                   \"dec\": dec,\n",
    "                   \"radius\": radius\n",
    "               }}\n",
    " \n",
    "    headers, out_string = mast_query(request)\n",
    "    out_data = json.loads(out_string)\n",
    "    \n",
    "    dataframe = pd.DataFrame(out_data[\"data\"])\n",
    "    \n",
    "    return dataframe #out_data\n",
    "\n",
    "cone = tic_advanced_search_position_rows() #tic_advanced_search_position() # Now a dataframe"
   ]
  },
  {
   "cell_type": "code",
   "execution_count": 281,
   "id": "18780e33",
   "metadata": {
    "scrolled": true
   },
   "outputs": [],
   "source": [
    "def get_ZTF_links(ra, dec, cutout_size): # Download the ZTF image\n",
    "    pd.set_option(\"display.max_columns\", None)\n",
    "    \n",
    "    metadata_URL = \"https://irsa.ipac.caltech.edu/ibe/search/ztf/products/sci?POS=\" + str(ra) + \",\" + str(dec)\n",
    "    metadata_response = requests.get(metadata_URL)\n",
    "    save_table_name = \"ogfile.txt\"\n",
    "    open(save_table_name, \"wb\").write(metadata_response.content)\n",
    "    \n",
    "    table = \"\"\n",
    "    with open(save_table_name) as saved_table_file:\n",
    "        lines = saved_table_file.readlines()\n",
    "        headers = lines[90].replace(\" \", \"\").split(\"|\")[1:-1]\n",
    "        headers.insert(19, \"obstime\") # Adding the times which are separated by spaces so pandas can use \" \" as a delimeter\n",
    "        headers.insert(45, \"ipac_pub_time\")\n",
    "        \n",
    "        table = pd.read_table(save_table_name, skiprows = 94, names = headers, delim_whitespace = True) # After row 94 is the data, but 91 is the header\n",
    "    \n",
    "    fits_URLs = []\n",
    "    #picture_number = 0\n",
    "    for picture_number in range(0, 20):\n",
    "        file_fracday = str(table.at[picture_number, \"filefracday\"]) # yyyy + mm + dd + fracday\n",
    "        year = str(file_fracday[:4]) # yyyy\n",
    "        month = str(file_fracday[4:6]) # mm\n",
    "        day = str(file_fracday[6:8]) # dd\n",
    "        fracday = str(file_fracday[8:])\n",
    "        padded_field = str(\"000\" + str(table.at[picture_number, \"field\"])) # 000 + field\n",
    "        filter_code = str(table.at[picture_number, \"filtercode\"])\n",
    "        padded_ccdid = str(table.at[picture_number, \"ccdid\"]) # ccdid\n",
    "        image_type_code = str(table.at[picture_number, \"imgtypecode\"]) # imgtypecode\n",
    "        qid = str(table.at[picture_number, \"qid\"])\n",
    "        suffix = \"sciimg.fits\" # Primary science image\n",
    "        \n",
    "        fits_URL = \"https://irsa.ipac.caltech.edu/ibe/data/ztf/products/sci/\" + str(year) + \"/\" + str(month) + str(day) + \"/\" + str(fracday) + \"/ztf_\" + str(file_fracday) + \"_\" + str(padded_field) + \"_\" + str(filter_code) + \"_c\" + str(padded_ccdid) + \"_\" + str(image_type_code) + \"_q\" + str(qid) + \"_\" + str(suffix) # Entire .fits file\n",
    "        if not cutout_size == \"\":\n",
    "            fits_URL += \"?center=\" + str(ra) + \",\" + str(dec) + \"&size=\" + str(cutout_size) + \"arcsec&gzip=false\" # For downloading .fits cutout\n",
    "        #response = requests.get(str(fits_URL)) # I don't need the URL results because fits can open right from the URL\n",
    "        fits_URLs.append(fits_URL)\n",
    "    \n",
    "    return fits_URLs\n",
    "\n",
    "def open_ZTF(fits_URL): # Open the ZTF image\n",
    "    plot.figure(figsize = (10, 10)) # Sizing plot to be larger (and therefore clearer on the screen)\n",
    "    file = fits.open(fits_URL) # fits can open URLS directly without needing to save the data as a .fits file\n",
    "    fits_image = np.array(file[0].data)\n",
    "    print(fits_image.shape)\n",
    "    \n",
    "    # Plotting the image itself\n",
    "    plot.imshow(np.flipud(fits_image), norm = matplotlib.colors.LogNorm()) # Log color scale to more easily see the contrast and see more stars. FLip the image data vertically to check with ds9\n",
    "    colorbar = plot.colorbar() # Display the colorbar\n",
    "    colorbar.set_ticks([np.mean(fits_image), np.median(fits_image), 1000, 10000, np.max(fits_image), np.min(fits_image)])\n",
    "    colorbar.set_ticklabels([\"Mean: \" + str(np.mean(fits_image)), \"Median: \" + str(np.median(fits_image)), str(1000), str(10000), \"Max: \" + str(np.max(fits_image)), \"Min: \" + str(np.min(fits_image))])\n",
    "    \n",
    "    # Plotting the lightcurve"
   ]
  },
  {
   "cell_type": "code",
   "execution_count": 274,
   "id": "256eeb19",
   "metadata": {
    "scrolled": false
   },
   "outputs": [],
   "source": []
  },
  {
   "cell_type": "code",
   "execution_count": 292,
   "id": "c0dcfed1",
   "metadata": {},
   "outputs": [
    {
     "name": "stdout",
     "output_type": "stream",
     "text": [
      "146\n",
      "['https://irsa.ipac.caltech.edu/ibe/data/ztf/products/sci/2020/0710/238368/ztf_20200710238368_000862_zg_c14_o_q2_sciimg.fits?center=205.974761352481,79.4034939903583&size=30arcsec&gzip=false', 'https://irsa.ipac.caltech.edu/ibe/data/ztf/products/sci/2020/0711/326343/ztf_20200711326343_000862_zi_c14_o_q2_sciimg.fits?center=205.974761352481,79.4034939903583&size=30arcsec&gzip=false', 'https://irsa.ipac.caltech.edu/ibe/data/ztf/products/sci/2020/0713/245347/ztf_20200713245347_000862_zr_c14_o_q2_sciimg.fits?center=205.974761352481,79.4034939903583&size=30arcsec&gzip=false', 'https://irsa.ipac.caltech.edu/ibe/data/ztf/products/sci/2020/0713/202431/ztf_20200713202431_000862_zg_c14_o_q2_sciimg.fits?center=205.974761352481,79.4034939903583&size=30arcsec&gzip=false', 'https://irsa.ipac.caltech.edu/ibe/data/ztf/products/sci/2020/0731/263241/ztf_20200731263241_000862_zr_c14_o_q2_sciimg.fits?center=205.974761352481,79.4034939903583&size=30arcsec&gzip=false', 'https://irsa.ipac.caltech.edu/ibe/data/ztf/products/sci/2018/1229/513438/ztf_20181229513438_000862_zr_c14_o_q3_sciimg.fits?center=205.974761352481,79.4034939903583&size=30arcsec&gzip=false', 'https://irsa.ipac.caltech.edu/ibe/data/ztf/products/sci/2018/0419/307558/ztf_20180419307558_000862_zg_c14_o_q3_sciimg.fits?center=205.974761352481,79.4034939903583&size=30arcsec&gzip=false', 'https://irsa.ipac.caltech.edu/ibe/data/ztf/products/sci/2018/0423/264387/ztf_20180423264387_000862_zr_c14_o_q3_sciimg.fits?center=205.974761352481,79.4034939903583&size=30arcsec&gzip=false', 'https://irsa.ipac.caltech.edu/ibe/data/ztf/products/sci/2018/0716/197106/ztf_20180716197106_000862_zg_c14_o_q3_sciimg.fits?center=205.974761352481,79.4034939903583&size=30arcsec&gzip=false', 'https://irsa.ipac.caltech.edu/ibe/data/ztf/products/sci/2018/0411/224549/ztf_20180411224549_000862_zr_c14_o_q3_sciimg.fits?center=205.974761352481,79.4034939903583&size=30arcsec&gzip=false', 'https://irsa.ipac.caltech.edu/ibe/data/ztf/products/sci/2018/0724/194931/ztf_20180724194931_000862_zg_c14_o_q3_sciimg.fits?center=205.974761352481,79.4034939903583&size=30arcsec&gzip=false', 'https://irsa.ipac.caltech.edu/ibe/data/ztf/products/sci/2018/0429/310845/ztf_20180429310845_000862_zg_c14_o_q3_sciimg.fits?center=205.974761352481,79.4034939903583&size=30arcsec&gzip=false', 'https://irsa.ipac.caltech.edu/ibe/data/ztf/products/sci/2019/0314/361794/ztf_20190314361794_000862_zg_c14_o_q3_sciimg.fits?center=205.974761352481,79.4034939903583&size=30arcsec&gzip=false', 'https://irsa.ipac.caltech.edu/ibe/data/ztf/products/sci/2019/0224/419433/ztf_20190224419433_000862_zg_c14_o_q3_sciimg.fits?center=205.974761352481,79.4034939903583&size=30arcsec&gzip=false', 'https://irsa.ipac.caltech.edu/ibe/data/ztf/products/sci/2018/0716/179039/ztf_20180716179039_000862_zr_c14_o_q3_sciimg.fits?center=205.974761352481,79.4034939903583&size=30arcsec&gzip=false', 'https://irsa.ipac.caltech.edu/ibe/data/ztf/products/sci/2018/0619/179664/ztf_20180619179664_000862_zi_c14_o_q3_sciimg.fits?center=205.974761352481,79.4034939903583&size=30arcsec&gzip=false', 'https://irsa.ipac.caltech.edu/ibe/data/ztf/products/sci/2018/0416/312812/ztf_20180416312812_000862_zr_c14_o_q3_sciimg.fits?center=205.974761352481,79.4034939903583&size=30arcsec&gzip=false', 'https://irsa.ipac.caltech.edu/ibe/data/ztf/products/sci/2018/0322/343843/ztf_20180322343843_000862_zr_c14_o_q3_sciimg.fits?center=205.974761352481,79.4034939903583&size=30arcsec&gzip=false', 'https://irsa.ipac.caltech.edu/ibe/data/ztf/products/sci/2019/0224/405336/ztf_20190224405336_000862_zg_c14_o_q3_sciimg.fits?center=205.974761352481,79.4034939903583&size=30arcsec&gzip=false', 'https://irsa.ipac.caltech.edu/ibe/data/ztf/products/sci/2018/0504/405069/ztf_20180504405069_000862_zg_c14_o_q3_sciimg.fits?center=205.974761352481,79.4034939903583&size=30arcsec&gzip=false']\n",
      "https://irsa.ipac.caltech.edu/ibe/data/ztf/products/sci/2020/0710/238368/ztf_20200710238368_000862_zg_c14_o_q2_sciimg.fits?center=205.974761352481,79.4034939903583&size=30arcsec&gzip=false\n",
      "https://irsa.ipac.caltech.edu/ibe/data/ztf/products/sci/2020/0711/326343/ztf_20200711326343_000862_zi_c14_o_q2_sciimg.fits?center=205.974761352481,79.4034939903583&size=30arcsec&gzip=false\n",
      "https://irsa.ipac.caltech.edu/ibe/data/ztf/products/sci/2020/0713/245347/ztf_20200713245347_000862_zr_c14_o_q2_sciimg.fits?center=205.974761352481,79.4034939903583&size=30arcsec&gzip=false\n",
      "https://irsa.ipac.caltech.edu/ibe/data/ztf/products/sci/2020/0713/202431/ztf_20200713202431_000862_zg_c14_o_q2_sciimg.fits?center=205.974761352481,79.4034939903583&size=30arcsec&gzip=false\n",
      "https://irsa.ipac.caltech.edu/ibe/data/ztf/products/sci/2020/0731/263241/ztf_20200731263241_000862_zr_c14_o_q2_sciimg.fits?center=205.974761352481,79.4034939903583&size=30arcsec&gzip=false\n",
      "https://irsa.ipac.caltech.edu/ibe/data/ztf/products/sci/2018/1229/513438/ztf_20181229513438_000862_zr_c14_o_q3_sciimg.fits?center=205.974761352481,79.4034939903583&size=30arcsec&gzip=false\n",
      "https://irsa.ipac.caltech.edu/ibe/data/ztf/products/sci/2018/0419/307558/ztf_20180419307558_000862_zg_c14_o_q3_sciimg.fits?center=205.974761352481,79.4034939903583&size=30arcsec&gzip=false\n",
      "https://irsa.ipac.caltech.edu/ibe/data/ztf/products/sci/2018/0423/264387/ztf_20180423264387_000862_zr_c14_o_q3_sciimg.fits?center=205.974761352481,79.4034939903583&size=30arcsec&gzip=false\n",
      "https://irsa.ipac.caltech.edu/ibe/data/ztf/products/sci/2018/0716/197106/ztf_20180716197106_000862_zg_c14_o_q3_sciimg.fits?center=205.974761352481,79.4034939903583&size=30arcsec&gzip=false\n",
      "https://irsa.ipac.caltech.edu/ibe/data/ztf/products/sci/2018/0411/224549/ztf_20180411224549_000862_zr_c14_o_q3_sciimg.fits?center=205.974761352481,79.4034939903583&size=30arcsec&gzip=false\n",
      "https://irsa.ipac.caltech.edu/ibe/data/ztf/products/sci/2018/0724/194931/ztf_20180724194931_000862_zg_c14_o_q3_sciimg.fits?center=205.974761352481,79.4034939903583&size=30arcsec&gzip=false\n",
      "https://irsa.ipac.caltech.edu/ibe/data/ztf/products/sci/2018/0429/310845/ztf_20180429310845_000862_zg_c14_o_q3_sciimg.fits?center=205.974761352481,79.4034939903583&size=30arcsec&gzip=false\n",
      "https://irsa.ipac.caltech.edu/ibe/data/ztf/products/sci/2019/0314/361794/ztf_20190314361794_000862_zg_c14_o_q3_sciimg.fits?center=205.974761352481,79.4034939903583&size=30arcsec&gzip=false\n",
      "https://irsa.ipac.caltech.edu/ibe/data/ztf/products/sci/2019/0224/419433/ztf_20190224419433_000862_zg_c14_o_q3_sciimg.fits?center=205.974761352481,79.4034939903583&size=30arcsec&gzip=false\n",
      "https://irsa.ipac.caltech.edu/ibe/data/ztf/products/sci/2018/0716/179039/ztf_20180716179039_000862_zr_c14_o_q3_sciimg.fits?center=205.974761352481,79.4034939903583&size=30arcsec&gzip=false\n",
      "https://irsa.ipac.caltech.edu/ibe/data/ztf/products/sci/2018/0619/179664/ztf_20180619179664_000862_zi_c14_o_q3_sciimg.fits?center=205.974761352481,79.4034939903583&size=30arcsec&gzip=false\n",
      "https://irsa.ipac.caltech.edu/ibe/data/ztf/products/sci/2018/0416/312812/ztf_20180416312812_000862_zr_c14_o_q3_sciimg.fits?center=205.974761352481,79.4034939903583&size=30arcsec&gzip=false\n",
      "https://irsa.ipac.caltech.edu/ibe/data/ztf/products/sci/2018/0322/343843/ztf_20180322343843_000862_zr_c14_o_q3_sciimg.fits?center=205.974761352481,79.4034939903583&size=30arcsec&gzip=false\n",
      "https://irsa.ipac.caltech.edu/ibe/data/ztf/products/sci/2019/0224/405336/ztf_20190224405336_000862_zg_c14_o_q3_sciimg.fits?center=205.974761352481,79.4034939903583&size=30arcsec&gzip=false\n",
      "https://irsa.ipac.caltech.edu/ibe/data/ztf/products/sci/2018/0504/405069/ztf_20180504405069_000862_zg_c14_o_q3_sciimg.fits?center=205.974761352481,79.4034939903583&size=30arcsec&gzip=false\n"
     ]
    },
    {
     "data": {
      "text/plain": [
       "[<matplotlib.lines.Line2D at 0x22281b64100>]"
      ]
     },
     "execution_count": 292,
     "metadata": {},
     "output_type": "execute_result"
    },
    {
     "data": {
      "image/png": "[encoded data removed]",
      "text/plain": [
       "<Figure size 432x288 with 1 Axes>"
      ]
     },
     "metadata": {
      "needs_background": "light"
     },
     "output_type": "display_data"
    }
   ],
   "source": [
    "#open(\"cone2.txt\", \"w\").write(str(cone)) # Save the cone as a file because it is too large\n",
    "#print(cone.head())\n",
    "print(len(cone))\n",
    "\n",
    "#for star_index in cone\n",
    "star_index = 0#28203 # Take the SIMBAD star\n",
    "#cone[star_index]\n",
    "#print(cone.loc[cone[\"ID\"] == 155657581]) # IS A NUMBER NOT STRING, column 28203\n",
    "cutout_size = \"30\" # In arcseconds\n",
    "fits_URLs = get_ZTF_links(str(cone.at[star_index, \"ra\"]), str(cone.at[star_index, \"dec\"]), str(cutout_size))\n",
    "print(fits_URLs)\n",
    "\n",
    "brightnesses = []\n",
    "for fits_URL in fits_URLs:\n",
    "    print(fits_URL)\n",
    "    fits_file = fits.open(fits_URL) # fits can open URLS directly without needing to save the data as a .fits file\n",
    "    fits_image = np.array(fits_file[0].data)\n",
    "    brightnesses.append(np.sum(fits_image))\n",
    "    fits_file.close()\n",
    "\n",
    "\n",
    "\n",
    "plot.plot(np.arange(0, 20), brightnesses)\n",
    "#open_ZTF(fits_URL)"
   ]
  },
  {
   "cell_type": "code",
   "execution_count": 183,
   "id": "d35321de",
   "metadata": {},
   "outputs": [
    {
     "name": "stdout",
     "output_type": "stream",
     "text": [
      "255.65237941161257 11.831369947109241\n"
     ]
    }
   ],
   "source": [
    "header = file[0].header #fits.getheader(file)\n",
    "w = WCS(header)\n",
    "wx, wy = w.wcs_pix2world(100., 99., 1)\n",
    "print('{0} {1}'.format(wx, wy))"
   ]
  },
  {
   "cell_type": "code",
   "execution_count": 284,
   "id": "41625790",
   "metadata": {},
   "outputs": [
    {
     "name": "stdout",
     "output_type": "stream",
     "text": [
      "[211275.88, 1015384.6, 421601.7, 216696.16, 846886.0, 524962.8, 158864.25, 573345.1, 1143076.4, 545978.2, 7437469.0, 1728341.2, 189894.28, 731922.4, 3102312.2, 686407.8, 546331.7, 329324.12, 838857.6, 523581.4]\n"
     ]
    }
   ],
   "source": [
    "print(brightnesses)"
   ]
  },
  {
   "cell_type": "code",
   "execution_count": null,
   "id": "8f9ead39",
   "metadata": {},
   "outputs": [],
   "source": []
  },
  {
   "cell_type": "code",
   "execution_count": null,
   "id": "ae8b0977",
   "metadata": {},
   "outputs": [],
   "source": []
  },
  {
   "cell_type": "code",
   "execution_count": 188,
   "id": "08e3233a",
   "metadata": {},
   "outputs": [
    {
     "name": "stdout",
     "output_type": "stream",
     "text": [
      "Token: 5cce47d2becf05b9142e13afd79c6648da9b26db\n",
      "Task URL: https://fallingstar-data.com/forcedphot/queue/215932/\n"
     ]
    }
   ],
   "source": [
    "base_url = \"https://fallingstar-data.com/forcedphot\"\n",
    "%run Passwords.ipynb\n",
    "\n",
    "response = requests.post(url = str(base_url) + \"/api-token-auth/\", data = {\"username\": username, \"password\": password})\n",
    "ra = 44\n",
    "dec = 22\n",
    "task_url = \"\"\n",
    "\n",
    "if response.status_code == 200:\n",
    "    token = response.json()[\"token\"]\n",
    "    print(\"Token: \" + str(token))\n",
    "    headers = {\"Authorization\": \"Token \" + str(token), \"Accept\": \"application/json\"}\n",
    "    \n",
    "    task_url = None\n",
    "    while not task_url:\n",
    "        with requests.Session() as session:\n",
    "            response = session.post(str(base_url) + \"/queue/\", headers = headers, data = {\"ra\": ra, \"dec\": dec, \"mjd_min\": 59248., \"send_email\": False})\n",
    "            \n",
    "            if response.status_code == 201:  # Successfull!\n",
    "                task_url = response.json()[\"url\"]\n",
    "                print(\"Task URL: \" + str(task_url))\n",
    "                \n",
    "                response = requests.get(task_url, allow_redirects = True)\n",
    "                open(\"test.txt\", \"wb\").write(response.content)\n",
    "            elif response.status_code == 429:  # Wait\n",
    "                message = response.json()[\"detail\"]\n",
    "                print(\"ERROR: \" + str(response.status_code))\n",
    "                print(response.json())\n",
    "                seconds = re.findall(r'available in (\\d+) seconds', message)\n",
    "                minutes = re.findall(r'available in (\\d+) minutes', message)\n",
    "                wait_time = 0\n",
    "                if t_sec:\n",
    "                    wait_time = int(seconds[0])\n",
    "                elif t_min:\n",
    "                    wait_time = int(minutes[0]) * 60\n",
    "                else:\n",
    "                    wait_time = 10\n",
    "                print(\"Waiting \" + str(wait_time) + \" seconds...\")\n",
    "                time.sleep(wait_time)\n",
    "            else: # Fail\n",
    "                print(\"ERROR: \" + str(response.status_code))\n",
    "                print(response.json())\n",
    "                sys.exit()\n",
    "else:\n",
    "    print(\"ERROR: \" + str(response.status_code))\n",
    "    print(response.json())"
   ]
  },
  {
   "cell_type": "code",
   "execution_count": 35,
   "id": "238b374b",
   "metadata": {
    "scrolled": false
   },
   "outputs": [
    {
     "name": "stdout",
     "output_type": "stream",
     "text": [
      "Waiting 10 seconds...\n",
      "Waiting 10 seconds...\n",
      "Waiting 10 seconds...\n",
      "Waiting 10 seconds...\n",
      "Waiting 10 seconds...\n",
      "Waiting 10 seconds...\n",
      "Waiting 10 seconds...\n",
      "Waiting 10 seconds...\n",
      "Waiting 10 seconds...\n",
      "Waiting 10 seconds...\n",
      "Waiting 10 seconds...\n",
      "Waiting 10 seconds...\n",
      "Waiting 10 seconds...\n",
      "Waiting 10 seconds...\n",
      "Waiting 10 seconds...\n",
      "Waiting 10 seconds...\n",
      "Waiting 10 seconds...\n",
      "Waiting 10 seconds...\n",
      "Waiting 10 seconds...\n",
      "Waiting 10 seconds...\n",
      "Waiting 10 seconds...\n"
     ]
    },
    {
     "ename": "ConnectionError",
     "evalue": "HTTPSConnectionPool(host='fallingstar-data.com', port=443): Max retries exceeded with url: /forcedphot/queue/215366/ (Caused by NewConnectionError('<urllib3.connection.HTTPSConnection object at 0x00000222E26E2610>: Failed to establish a new connection: [WinError 10060] A connection attempt failed because the connected party did not properly respond after a period of time, or established connection failed because connected host has failed to respond'))",
     "output_type": "error",
     "traceback": [
      "\u001b[1;31m---------------------------------------------------------------------------\u001b[0m",
      "\u001b[1;31mTimeoutError\u001b[0m                              Traceback (most recent call last)",
      "File \u001b[1;32mC:\\ProgramData\\Anaconda3\\envs\\autosgenviro\\lib\\site-packages\\urllib3\\connection.py:174\u001b[0m, in \u001b[0;36mHTTPConnection._new_conn\u001b[1;34m(self)\u001b[0m\n\u001b[0;32m    173\u001b[0m \u001b[38;5;28;01mtry\u001b[39;00m:\n\u001b[1;32m--> 174\u001b[0m     conn \u001b[38;5;241m=\u001b[39m \u001b[43mconnection\u001b[49m\u001b[38;5;241;43m.\u001b[39;49m\u001b[43mcreate_connection\u001b[49m\u001b[43m(\u001b[49m\n\u001b[0;32m    175\u001b[0m \u001b[43m        \u001b[49m\u001b[43m(\u001b[49m\u001b[38;5;28;43mself\u001b[39;49m\u001b[38;5;241;43m.\u001b[39;49m\u001b[43m_dns_host\u001b[49m\u001b[43m,\u001b[49m\u001b[43m \u001b[49m\u001b[38;5;28;43mself\u001b[39;49m\u001b[38;5;241;43m.\u001b[39;49m\u001b[43mport\u001b[49m\u001b[43m)\u001b[49m\u001b[43m,\u001b[49m\u001b[43m \u001b[49m\u001b[38;5;28;43mself\u001b[39;49m\u001b[38;5;241;43m.\u001b[39;49m\u001b[43mtimeout\u001b[49m\u001b[43m,\u001b[49m\u001b[43m \u001b[49m\u001b[38;5;241;43m*\u001b[39;49m\u001b[38;5;241;43m*\u001b[39;49m\u001b[43mextra_kw\u001b[49m\n\u001b[0;32m    176\u001b[0m \u001b[43m    \u001b[49m\u001b[43m)\u001b[49m\n\u001b[0;32m    178\u001b[0m \u001b[38;5;28;01mexcept\u001b[39;00m SocketTimeout:\n",
      "File \u001b[1;32mC:\\ProgramData\\Anaconda3\\envs\\autosgenviro\\lib\\site-packages\\urllib3\\util\\connection.py:95\u001b[0m, in \u001b[0;36mcreate_connection\u001b[1;34m(address, timeout, source_address, socket_options)\u001b[0m\n\u001b[0;32m     94\u001b[0m \u001b[38;5;28;01mif\u001b[39;00m err \u001b[38;5;129;01mis\u001b[39;00m \u001b[38;5;129;01mnot\u001b[39;00m \u001b[38;5;28;01mNone\u001b[39;00m:\n\u001b[1;32m---> 95\u001b[0m     \u001b[38;5;28;01mraise\u001b[39;00m err\n\u001b[0;32m     97\u001b[0m \u001b[38;5;28;01mraise\u001b[39;00m socket\u001b[38;5;241m.\u001b[39merror(\u001b[38;5;124m\"\u001b[39m\u001b[38;5;124mgetaddrinfo returns an empty list\u001b[39m\u001b[38;5;124m\"\u001b[39m)\n",
      "File \u001b[1;32mC:\\ProgramData\\Anaconda3\\envs\\autosgenviro\\lib\\site-packages\\urllib3\\util\\connection.py:85\u001b[0m, in \u001b[0;36mcreate_connection\u001b[1;34m(address, timeout, source_address, socket_options)\u001b[0m\n\u001b[0;32m     84\u001b[0m     sock\u001b[38;5;241m.\u001b[39mbind(source_address)\n\u001b[1;32m---> 85\u001b[0m \u001b[43msock\u001b[49m\u001b[38;5;241;43m.\u001b[39;49m\u001b[43mconnect\u001b[49m\u001b[43m(\u001b[49m\u001b[43msa\u001b[49m\u001b[43m)\u001b[49m\n\u001b[0;32m     86\u001b[0m \u001b[38;5;28;01mreturn\u001b[39;00m sock\n",
      "\u001b[1;31mTimeoutError\u001b[0m: [WinError 10060] A connection attempt failed because the connected party did not properly respond after a period of time, or established connection failed because connected host has failed to respond",
      "\nDuring handling of the above exception, another exception occurred:\n",
      "\u001b[1;31mNewConnectionError\u001b[0m                        Traceback (most recent call last)",
      "File \u001b[1;32mC:\\ProgramData\\Anaconda3\\envs\\autosgenviro\\lib\\site-packages\\urllib3\\connectionpool.py:703\u001b[0m, in \u001b[0;36mHTTPConnectionPool.urlopen\u001b[1;34m(self, method, url, body, headers, retries, redirect, assert_same_host, timeout, pool_timeout, release_conn, chunked, body_pos, **response_kw)\u001b[0m\n\u001b[0;32m    702\u001b[0m \u001b[38;5;66;03m# Make the request on the httplib connection object.\u001b[39;00m\n\u001b[1;32m--> 703\u001b[0m httplib_response \u001b[38;5;241m=\u001b[39m \u001b[38;5;28;43mself\u001b[39;49m\u001b[38;5;241;43m.\u001b[39;49m\u001b[43m_make_request\u001b[49m\u001b[43m(\u001b[49m\n\u001b[0;32m    704\u001b[0m \u001b[43m    \u001b[49m\u001b[43mconn\u001b[49m\u001b[43m,\u001b[49m\n\u001b[0;32m    705\u001b[0m \u001b[43m    \u001b[49m\u001b[43mmethod\u001b[49m\u001b[43m,\u001b[49m\n\u001b[0;32m    706\u001b[0m \u001b[43m    \u001b[49m\u001b[43murl\u001b[49m\u001b[43m,\u001b[49m\n\u001b[0;32m    707\u001b[0m \u001b[43m    \u001b[49m\u001b[43mtimeout\u001b[49m\u001b[38;5;241;43m=\u001b[39;49m\u001b[43mtimeout_obj\u001b[49m\u001b[43m,\u001b[49m\n\u001b[0;32m    708\u001b[0m \u001b[43m    \u001b[49m\u001b[43mbody\u001b[49m\u001b[38;5;241;43m=\u001b[39;49m\u001b[43mbody\u001b[49m\u001b[43m,\u001b[49m\n\u001b[0;32m    709\u001b[0m \u001b[43m    \u001b[49m\u001b[43mheaders\u001b[49m\u001b[38;5;241;43m=\u001b[39;49m\u001b[43mheaders\u001b[49m\u001b[43m,\u001b[49m\n\u001b[0;32m    710\u001b[0m \u001b[43m    \u001b[49m\u001b[43mchunked\u001b[49m\u001b[38;5;241;43m=\u001b[39;49m\u001b[43mchunked\u001b[49m\u001b[43m,\u001b[49m\n\u001b[0;32m    711\u001b[0m \u001b[43m\u001b[49m\u001b[43m)\u001b[49m\n\u001b[0;32m    713\u001b[0m \u001b[38;5;66;03m# If we're going to release the connection in ``finally:``, then\u001b[39;00m\n\u001b[0;32m    714\u001b[0m \u001b[38;5;66;03m# the response doesn't need to know about the connection. Otherwise\u001b[39;00m\n\u001b[0;32m    715\u001b[0m \u001b[38;5;66;03m# it will also try to release it and we'll have a double-release\u001b[39;00m\n\u001b[0;32m    716\u001b[0m \u001b[38;5;66;03m# mess.\u001b[39;00m\n",
      "File \u001b[1;32mC:\\ProgramData\\Anaconda3\\envs\\autosgenviro\\lib\\site-packages\\urllib3\\connectionpool.py:386\u001b[0m, in \u001b[0;36mHTTPConnectionPool._make_request\u001b[1;34m(self, conn, method, url, timeout, chunked, **httplib_request_kw)\u001b[0m\n\u001b[0;32m    385\u001b[0m \u001b[38;5;28;01mtry\u001b[39;00m:\n\u001b[1;32m--> 386\u001b[0m     \u001b[38;5;28;43mself\u001b[39;49m\u001b[38;5;241;43m.\u001b[39;49m\u001b[43m_validate_conn\u001b[49m\u001b[43m(\u001b[49m\u001b[43mconn\u001b[49m\u001b[43m)\u001b[49m\n\u001b[0;32m    387\u001b[0m \u001b[38;5;28;01mexcept\u001b[39;00m (SocketTimeout, BaseSSLError) \u001b[38;5;28;01mas\u001b[39;00m e:\n\u001b[0;32m    388\u001b[0m     \u001b[38;5;66;03m# Py2 raises this as a BaseSSLError, Py3 raises it as socket timeout.\u001b[39;00m\n",
      "File \u001b[1;32mC:\\ProgramData\\Anaconda3\\envs\\autosgenviro\\lib\\site-packages\\urllib3\\connectionpool.py:1040\u001b[0m, in \u001b[0;36mHTTPSConnectionPool._validate_conn\u001b[1;34m(self, conn)\u001b[0m\n\u001b[0;32m   1039\u001b[0m \u001b[38;5;28;01mif\u001b[39;00m \u001b[38;5;129;01mnot\u001b[39;00m \u001b[38;5;28mgetattr\u001b[39m(conn, \u001b[38;5;124m\"\u001b[39m\u001b[38;5;124msock\u001b[39m\u001b[38;5;124m\"\u001b[39m, \u001b[38;5;28;01mNone\u001b[39;00m):  \u001b[38;5;66;03m# AppEngine might not have  `.sock`\u001b[39;00m\n\u001b[1;32m-> 1040\u001b[0m     \u001b[43mconn\u001b[49m\u001b[38;5;241;43m.\u001b[39;49m\u001b[43mconnect\u001b[49m\u001b[43m(\u001b[49m\u001b[43m)\u001b[49m\n\u001b[0;32m   1042\u001b[0m \u001b[38;5;28;01mif\u001b[39;00m \u001b[38;5;129;01mnot\u001b[39;00m conn\u001b[38;5;241m.\u001b[39mis_verified:\n",
      "File \u001b[1;32mC:\\ProgramData\\Anaconda3\\envs\\autosgenviro\\lib\\site-packages\\urllib3\\connection.py:358\u001b[0m, in \u001b[0;36mHTTPSConnection.connect\u001b[1;34m(self)\u001b[0m\n\u001b[0;32m    356\u001b[0m \u001b[38;5;28;01mdef\u001b[39;00m \u001b[38;5;21mconnect\u001b[39m(\u001b[38;5;28mself\u001b[39m):\n\u001b[0;32m    357\u001b[0m     \u001b[38;5;66;03m# Add certificate verification\u001b[39;00m\n\u001b[1;32m--> 358\u001b[0m     \u001b[38;5;28mself\u001b[39m\u001b[38;5;241m.\u001b[39msock \u001b[38;5;241m=\u001b[39m conn \u001b[38;5;241m=\u001b[39m \u001b[38;5;28;43mself\u001b[39;49m\u001b[38;5;241;43m.\u001b[39;49m\u001b[43m_new_conn\u001b[49m\u001b[43m(\u001b[49m\u001b[43m)\u001b[49m\n\u001b[0;32m    359\u001b[0m     hostname \u001b[38;5;241m=\u001b[39m \u001b[38;5;28mself\u001b[39m\u001b[38;5;241m.\u001b[39mhost\n",
      "File \u001b[1;32mC:\\ProgramData\\Anaconda3\\envs\\autosgenviro\\lib\\site-packages\\urllib3\\connection.py:186\u001b[0m, in \u001b[0;36mHTTPConnection._new_conn\u001b[1;34m(self)\u001b[0m\n\u001b[0;32m    185\u001b[0m \u001b[38;5;28;01mexcept\u001b[39;00m SocketError \u001b[38;5;28;01mas\u001b[39;00m e:\n\u001b[1;32m--> 186\u001b[0m     \u001b[38;5;28;01mraise\u001b[39;00m NewConnectionError(\n\u001b[0;32m    187\u001b[0m         \u001b[38;5;28mself\u001b[39m, \u001b[38;5;124m\"\u001b[39m\u001b[38;5;124mFailed to establish a new connection: \u001b[39m\u001b[38;5;132;01m%s\u001b[39;00m\u001b[38;5;124m\"\u001b[39m \u001b[38;5;241m%\u001b[39m e\n\u001b[0;32m    188\u001b[0m     )\n\u001b[0;32m    190\u001b[0m \u001b[38;5;28;01mreturn\u001b[39;00m conn\n",
      "\u001b[1;31mNewConnectionError\u001b[0m: <urllib3.connection.HTTPSConnection object at 0x00000222E26E2610>: Failed to establish a new connection: [WinError 10060] A connection attempt failed because the connected party did not properly respond after a period of time, or established connection failed because connected host has failed to respond",
      "\nDuring handling of the above exception, another exception occurred:\n",
      "\u001b[1;31mMaxRetryError\u001b[0m                             Traceback (most recent call last)",
      "File \u001b[1;32mC:\\ProgramData\\Anaconda3\\envs\\autosgenviro\\lib\\site-packages\\requests\\adapters.py:440\u001b[0m, in \u001b[0;36mHTTPAdapter.send\u001b[1;34m(self, request, stream, timeout, verify, cert, proxies)\u001b[0m\n\u001b[0;32m    439\u001b[0m \u001b[38;5;28;01mif\u001b[39;00m \u001b[38;5;129;01mnot\u001b[39;00m chunked:\n\u001b[1;32m--> 440\u001b[0m     resp \u001b[38;5;241m=\u001b[39m \u001b[43mconn\u001b[49m\u001b[38;5;241;43m.\u001b[39;49m\u001b[43murlopen\u001b[49m\u001b[43m(\u001b[49m\n\u001b[0;32m    441\u001b[0m \u001b[43m        \u001b[49m\u001b[43mmethod\u001b[49m\u001b[38;5;241;43m=\u001b[39;49m\u001b[43mrequest\u001b[49m\u001b[38;5;241;43m.\u001b[39;49m\u001b[43mmethod\u001b[49m\u001b[43m,\u001b[49m\n\u001b[0;32m    442\u001b[0m \u001b[43m        \u001b[49m\u001b[43murl\u001b[49m\u001b[38;5;241;43m=\u001b[39;49m\u001b[43murl\u001b[49m\u001b[43m,\u001b[49m\n\u001b[0;32m    443\u001b[0m \u001b[43m        \u001b[49m\u001b[43mbody\u001b[49m\u001b[38;5;241;43m=\u001b[39;49m\u001b[43mrequest\u001b[49m\u001b[38;5;241;43m.\u001b[39;49m\u001b[43mbody\u001b[49m\u001b[43m,\u001b[49m\n\u001b[0;32m    444\u001b[0m \u001b[43m        \u001b[49m\u001b[43mheaders\u001b[49m\u001b[38;5;241;43m=\u001b[39;49m\u001b[43mrequest\u001b[49m\u001b[38;5;241;43m.\u001b[39;49m\u001b[43mheaders\u001b[49m\u001b[43m,\u001b[49m\n\u001b[0;32m    445\u001b[0m \u001b[43m        \u001b[49m\u001b[43mredirect\u001b[49m\u001b[38;5;241;43m=\u001b[39;49m\u001b[38;5;28;43;01mFalse\u001b[39;49;00m\u001b[43m,\u001b[49m\n\u001b[0;32m    446\u001b[0m \u001b[43m        \u001b[49m\u001b[43massert_same_host\u001b[49m\u001b[38;5;241;43m=\u001b[39;49m\u001b[38;5;28;43;01mFalse\u001b[39;49;00m\u001b[43m,\u001b[49m\n\u001b[0;32m    447\u001b[0m \u001b[43m        \u001b[49m\u001b[43mpreload_content\u001b[49m\u001b[38;5;241;43m=\u001b[39;49m\u001b[38;5;28;43;01mFalse\u001b[39;49;00m\u001b[43m,\u001b[49m\n\u001b[0;32m    448\u001b[0m \u001b[43m        \u001b[49m\u001b[43mdecode_content\u001b[49m\u001b[38;5;241;43m=\u001b[39;49m\u001b[38;5;28;43;01mFalse\u001b[39;49;00m\u001b[43m,\u001b[49m\n\u001b[0;32m    449\u001b[0m \u001b[43m        \u001b[49m\u001b[43mretries\u001b[49m\u001b[38;5;241;43m=\u001b[39;49m\u001b[38;5;28;43mself\u001b[39;49m\u001b[38;5;241;43m.\u001b[39;49m\u001b[43mmax_retries\u001b[49m\u001b[43m,\u001b[49m\n\u001b[0;32m    450\u001b[0m \u001b[43m        \u001b[49m\u001b[43mtimeout\u001b[49m\u001b[38;5;241;43m=\u001b[39;49m\u001b[43mtimeout\u001b[49m\n\u001b[0;32m    451\u001b[0m \u001b[43m    \u001b[49m\u001b[43m)\u001b[49m\n\u001b[0;32m    453\u001b[0m \u001b[38;5;66;03m# Send the request.\u001b[39;00m\n\u001b[0;32m    454\u001b[0m \u001b[38;5;28;01melse\u001b[39;00m:\n",
      "File \u001b[1;32mC:\\ProgramData\\Anaconda3\\envs\\autosgenviro\\lib\\site-packages\\urllib3\\connectionpool.py:785\u001b[0m, in \u001b[0;36mHTTPConnectionPool.urlopen\u001b[1;34m(self, method, url, body, headers, retries, redirect, assert_same_host, timeout, pool_timeout, release_conn, chunked, body_pos, **response_kw)\u001b[0m\n\u001b[0;32m    783\u001b[0m     e \u001b[38;5;241m=\u001b[39m ProtocolError(\u001b[38;5;124m\"\u001b[39m\u001b[38;5;124mConnection aborted.\u001b[39m\u001b[38;5;124m\"\u001b[39m, e)\n\u001b[1;32m--> 785\u001b[0m retries \u001b[38;5;241m=\u001b[39m \u001b[43mretries\u001b[49m\u001b[38;5;241;43m.\u001b[39;49m\u001b[43mincrement\u001b[49m\u001b[43m(\u001b[49m\n\u001b[0;32m    786\u001b[0m \u001b[43m    \u001b[49m\u001b[43mmethod\u001b[49m\u001b[43m,\u001b[49m\u001b[43m \u001b[49m\u001b[43murl\u001b[49m\u001b[43m,\u001b[49m\u001b[43m \u001b[49m\u001b[43merror\u001b[49m\u001b[38;5;241;43m=\u001b[39;49m\u001b[43me\u001b[49m\u001b[43m,\u001b[49m\u001b[43m \u001b[49m\u001b[43m_pool\u001b[49m\u001b[38;5;241;43m=\u001b[39;49m\u001b[38;5;28;43mself\u001b[39;49m\u001b[43m,\u001b[49m\u001b[43m \u001b[49m\u001b[43m_stacktrace\u001b[49m\u001b[38;5;241;43m=\u001b[39;49m\u001b[43msys\u001b[49m\u001b[38;5;241;43m.\u001b[39;49m\u001b[43mexc_info\u001b[49m\u001b[43m(\u001b[49m\u001b[43m)\u001b[49m\u001b[43m[\u001b[49m\u001b[38;5;241;43m2\u001b[39;49m\u001b[43m]\u001b[49m\n\u001b[0;32m    787\u001b[0m \u001b[43m\u001b[49m\u001b[43m)\u001b[49m\n\u001b[0;32m    788\u001b[0m retries\u001b[38;5;241m.\u001b[39msleep()\n",
      "File \u001b[1;32mC:\\ProgramData\\Anaconda3\\envs\\autosgenviro\\lib\\site-packages\\urllib3\\util\\retry.py:592\u001b[0m, in \u001b[0;36mRetry.increment\u001b[1;34m(self, method, url, response, error, _pool, _stacktrace)\u001b[0m\n\u001b[0;32m    591\u001b[0m \u001b[38;5;28;01mif\u001b[39;00m new_retry\u001b[38;5;241m.\u001b[39mis_exhausted():\n\u001b[1;32m--> 592\u001b[0m     \u001b[38;5;28;01mraise\u001b[39;00m MaxRetryError(_pool, url, error \u001b[38;5;129;01mor\u001b[39;00m ResponseError(cause))\n\u001b[0;32m    594\u001b[0m log\u001b[38;5;241m.\u001b[39mdebug(\u001b[38;5;124m\"\u001b[39m\u001b[38;5;124mIncremented Retry for (url=\u001b[39m\u001b[38;5;124m'\u001b[39m\u001b[38;5;132;01m%s\u001b[39;00m\u001b[38;5;124m'\u001b[39m\u001b[38;5;124m): \u001b[39m\u001b[38;5;132;01m%r\u001b[39;00m\u001b[38;5;124m\"\u001b[39m, url, new_retry)\n",
      "\u001b[1;31mMaxRetryError\u001b[0m: HTTPSConnectionPool(host='fallingstar-data.com', port=443): Max retries exceeded with url: /forcedphot/queue/215366/ (Caused by NewConnectionError('<urllib3.connection.HTTPSConnection object at 0x00000222E26E2610>: Failed to establish a new connection: [WinError 10060] A connection attempt failed because the connected party did not properly respond after a period of time, or established connection failed because connected host has failed to respond'))",
      "\nDuring handling of the above exception, another exception occurred:\n",
      "\u001b[1;31mConnectionError\u001b[0m                           Traceback (most recent call last)",
      "Input \u001b[1;32mIn [35]\u001b[0m, in \u001b[0;36m<cell line: 2>\u001b[1;34m()\u001b[0m\n\u001b[0;32m      2\u001b[0m \u001b[38;5;28;01mwhile\u001b[39;00m \u001b[38;5;129;01mnot\u001b[39;00m result_url:\n\u001b[0;32m      3\u001b[0m     \u001b[38;5;28;01mwith\u001b[39;00m requests\u001b[38;5;241m.\u001b[39mSession() \u001b[38;5;28;01mas\u001b[39;00m session:\n\u001b[1;32m----> 4\u001b[0m         response \u001b[38;5;241m=\u001b[39m \u001b[43msession\u001b[49m\u001b[38;5;241;43m.\u001b[39;49m\u001b[43mget\u001b[49m\u001b[43m(\u001b[49m\u001b[43mtask_url\u001b[49m\u001b[43m,\u001b[49m\u001b[43m \u001b[49m\u001b[43mheaders\u001b[49m\u001b[43m \u001b[49m\u001b[38;5;241;43m=\u001b[39;49m\u001b[43m \u001b[49m\u001b[43mheaders\u001b[49m\u001b[43m)\u001b[49m\n\u001b[0;32m      6\u001b[0m         \u001b[38;5;28;01mif\u001b[39;00m response\u001b[38;5;241m.\u001b[39mstatus_code \u001b[38;5;241m==\u001b[39m \u001b[38;5;241m200\u001b[39m: \u001b[38;5;66;03m# HTTP OK\u001b[39;00m\n\u001b[0;32m      7\u001b[0m             \u001b[38;5;28;01mif\u001b[39;00m response\u001b[38;5;241m.\u001b[39mjson()[\u001b[38;5;124m\"\u001b[39m\u001b[38;5;124mfinishtimestamp\u001b[39m\u001b[38;5;124m\"\u001b[39m]:\n",
      "File \u001b[1;32mC:\\ProgramData\\Anaconda3\\envs\\autosgenviro\\lib\\site-packages\\requests\\sessions.py:542\u001b[0m, in \u001b[0;36mSession.get\u001b[1;34m(self, url, **kwargs)\u001b[0m\n\u001b[0;32m    534\u001b[0m \u001b[38;5;124mr\u001b[39m\u001b[38;5;124;03m\"\"\"Sends a GET request. Returns :class:`Response` object.\u001b[39;00m\n\u001b[0;32m    535\u001b[0m \n\u001b[0;32m    536\u001b[0m \u001b[38;5;124;03m:param url: URL for the new :class:`Request` object.\u001b[39;00m\n\u001b[0;32m    537\u001b[0m \u001b[38;5;124;03m:param \\*\\*kwargs: Optional arguments that ``request`` takes.\u001b[39;00m\n\u001b[0;32m    538\u001b[0m \u001b[38;5;124;03m:rtype: requests.Response\u001b[39;00m\n\u001b[0;32m    539\u001b[0m \u001b[38;5;124;03m\"\"\"\u001b[39;00m\n\u001b[0;32m    541\u001b[0m kwargs\u001b[38;5;241m.\u001b[39msetdefault(\u001b[38;5;124m'\u001b[39m\u001b[38;5;124mallow_redirects\u001b[39m\u001b[38;5;124m'\u001b[39m, \u001b[38;5;28;01mTrue\u001b[39;00m)\n\u001b[1;32m--> 542\u001b[0m \u001b[38;5;28;01mreturn\u001b[39;00m \u001b[38;5;28;43mself\u001b[39;49m\u001b[38;5;241;43m.\u001b[39;49m\u001b[43mrequest\u001b[49m\u001b[43m(\u001b[49m\u001b[38;5;124;43m'\u001b[39;49m\u001b[38;5;124;43mGET\u001b[39;49m\u001b[38;5;124;43m'\u001b[39;49m\u001b[43m,\u001b[49m\u001b[43m \u001b[49m\u001b[43murl\u001b[49m\u001b[43m,\u001b[49m\u001b[43m \u001b[49m\u001b[38;5;241;43m*\u001b[39;49m\u001b[38;5;241;43m*\u001b[39;49m\u001b[43mkwargs\u001b[49m\u001b[43m)\u001b[49m\n",
      "File \u001b[1;32mC:\\ProgramData\\Anaconda3\\envs\\autosgenviro\\lib\\site-packages\\requests\\sessions.py:529\u001b[0m, in \u001b[0;36mSession.request\u001b[1;34m(self, method, url, params, data, headers, cookies, files, auth, timeout, allow_redirects, proxies, hooks, stream, verify, cert, json)\u001b[0m\n\u001b[0;32m    524\u001b[0m send_kwargs \u001b[38;5;241m=\u001b[39m {\n\u001b[0;32m    525\u001b[0m     \u001b[38;5;124m'\u001b[39m\u001b[38;5;124mtimeout\u001b[39m\u001b[38;5;124m'\u001b[39m: timeout,\n\u001b[0;32m    526\u001b[0m     \u001b[38;5;124m'\u001b[39m\u001b[38;5;124mallow_redirects\u001b[39m\u001b[38;5;124m'\u001b[39m: allow_redirects,\n\u001b[0;32m    527\u001b[0m }\n\u001b[0;32m    528\u001b[0m send_kwargs\u001b[38;5;241m.\u001b[39mupdate(settings)\n\u001b[1;32m--> 529\u001b[0m resp \u001b[38;5;241m=\u001b[39m \u001b[38;5;28;43mself\u001b[39;49m\u001b[38;5;241;43m.\u001b[39;49m\u001b[43msend\u001b[49m\u001b[43m(\u001b[49m\u001b[43mprep\u001b[49m\u001b[43m,\u001b[49m\u001b[43m \u001b[49m\u001b[38;5;241;43m*\u001b[39;49m\u001b[38;5;241;43m*\u001b[39;49m\u001b[43msend_kwargs\u001b[49m\u001b[43m)\u001b[49m\n\u001b[0;32m    531\u001b[0m \u001b[38;5;28;01mreturn\u001b[39;00m resp\n",
      "File \u001b[1;32mC:\\ProgramData\\Anaconda3\\envs\\autosgenviro\\lib\\site-packages\\requests\\sessions.py:645\u001b[0m, in \u001b[0;36mSession.send\u001b[1;34m(self, request, **kwargs)\u001b[0m\n\u001b[0;32m    642\u001b[0m start \u001b[38;5;241m=\u001b[39m preferred_clock()\n\u001b[0;32m    644\u001b[0m \u001b[38;5;66;03m# Send the request\u001b[39;00m\n\u001b[1;32m--> 645\u001b[0m r \u001b[38;5;241m=\u001b[39m \u001b[43madapter\u001b[49m\u001b[38;5;241;43m.\u001b[39;49m\u001b[43msend\u001b[49m\u001b[43m(\u001b[49m\u001b[43mrequest\u001b[49m\u001b[43m,\u001b[49m\u001b[43m \u001b[49m\u001b[38;5;241;43m*\u001b[39;49m\u001b[38;5;241;43m*\u001b[39;49m\u001b[43mkwargs\u001b[49m\u001b[43m)\u001b[49m\n\u001b[0;32m    647\u001b[0m \u001b[38;5;66;03m# Total elapsed time of the request (approximately)\u001b[39;00m\n\u001b[0;32m    648\u001b[0m elapsed \u001b[38;5;241m=\u001b[39m preferred_clock() \u001b[38;5;241m-\u001b[39m start\n",
      "File \u001b[1;32mC:\\ProgramData\\Anaconda3\\envs\\autosgenviro\\lib\\site-packages\\requests\\adapters.py:519\u001b[0m, in \u001b[0;36mHTTPAdapter.send\u001b[1;34m(self, request, stream, timeout, verify, cert, proxies)\u001b[0m\n\u001b[0;32m    515\u001b[0m     \u001b[38;5;28;01mif\u001b[39;00m \u001b[38;5;28misinstance\u001b[39m(e\u001b[38;5;241m.\u001b[39mreason, _SSLError):\n\u001b[0;32m    516\u001b[0m         \u001b[38;5;66;03m# This branch is for urllib3 v1.22 and later.\u001b[39;00m\n\u001b[0;32m    517\u001b[0m         \u001b[38;5;28;01mraise\u001b[39;00m SSLError(e, request\u001b[38;5;241m=\u001b[39mrequest)\n\u001b[1;32m--> 519\u001b[0m     \u001b[38;5;28;01mraise\u001b[39;00m \u001b[38;5;167;01mConnectionError\u001b[39;00m(e, request\u001b[38;5;241m=\u001b[39mrequest)\n\u001b[0;32m    521\u001b[0m \u001b[38;5;28;01mexcept\u001b[39;00m ClosedPoolError \u001b[38;5;28;01mas\u001b[39;00m e:\n\u001b[0;32m    522\u001b[0m     \u001b[38;5;28;01mraise\u001b[39;00m \u001b[38;5;167;01mConnectionError\u001b[39;00m(e, request\u001b[38;5;241m=\u001b[39mrequest)\n",
      "\u001b[1;31mConnectionError\u001b[0m: HTTPSConnectionPool(host='fallingstar-data.com', port=443): Max retries exceeded with url: /forcedphot/queue/215366/ (Caused by NewConnectionError('<urllib3.connection.HTTPSConnection object at 0x00000222E26E2610>: Failed to establish a new connection: [WinError 10060] A connection attempt failed because the connected party did not properly respond after a period of time, or established connection failed because connected host has failed to respond'))"
     ]
    }
   ],
   "source": [
    "result_url = None\n",
    "while not result_url:\n",
    "    with requests.Session() as session:\n",
    "        response = session.get(task_url, headers = headers)\n",
    "        \n",
    "        if response.status_code == 200: # HTTP OK\n",
    "            if response.json()[\"finishtimestamp\"]:\n",
    "                result_url = response.json()[\"result_url\"]\n",
    "                print(\"Result URL: \" + str(result_url))\n",
    "                break\n",
    "            elif response.json()[\"starttimestamp\"]:\n",
    "                print(\"Task is running (started at \" + str(response.json()[\"starttimestamp\"]))\n",
    "            else:\n",
    "                print(\"Waiting 10 seconds...\")\n",
    "                time.sleep(10)\n",
    "        else:\n",
    "            print(\"ERROR: \" + str(response.status_code))\n",
    "            print(response.json())\n",
    "            sys.exit()\n",
    "\n",
    "\n",
    "panda_result = \"\"\n",
    "\n",
    "with requests.Session() as session:\n",
    "    textdata = session.get(result_url, headers = headers).text\n",
    "    #print(textdata)\n",
    "    \n",
    "    session.delete(task_url, headers = headers).json() # De-clutter sessions\n",
    "    \n",
    "    panda_result = pd.read_csv(io.StringIO(textdata.replace(\"###\", \"\")), delim_whitespace = True)\n",
    "    print(panda_result)"
   ]
  }
 ],
 "metadata": {
  "kernelspec": {
   "display_name": "Python 3 (ipykernel)",
   "language": "python",
   "name": "python3"
  },
  "language_info": {
   "codemirror_mode": {
    "name": "ipython",
    "version": 3
   },
   "file_extension": ".py",
   "mimetype": "text/x-python",
   "name": "python",
   "nbconvert_exporter": "python",
   "pygments_lexer": "ipython3",
   "version": "3.8.13"
  }
 },
 "nbformat": 4,
 "nbformat_minor": 5
}
