{
 "cells": [
  {
   "cell_type": "code",
   "execution_count": 3,
   "id": "e8c55525",
   "metadata": {},
   "outputs": [
    {
     "name": "stderr",
     "output_type": "stream",
     "text": [
      "0% (4/1241) of the cadences will be ignored due to the quality mask (quality_bitmask=175).\n"
     ]
    },
    {
     "data": {
      "text/plain": [
       "10"
      ]
     },
     "execution_count": 3,
     "metadata": {},
     "output_type": "execute_result"
    }
   ],
   "source": [
    "import lightkurve as lk\n",
    "search_result = lk.search_tesscut('HAT-P-11', sector=14)\n",
    "search_result\n",
    "lk.log.setLevel('INFO')\n",
    "tpf = search_result.download(cutout_size=20)\n",
    "target_mask = tpf.create_threshold_mask(threshold=15, reference_pixel='center')\n",
    "n_target_pixels = target_mask.sum()\n",
    "n_target_pixels"
   ]
  },
  {
   "cell_type": "code",
   "execution_count": null,
   "id": "d27a48f7",
   "metadata": {},
   "outputs": [],
   "source": []
  }
 ],
 "metadata": {
  "kernelspec": {
   "display_name": "Python 3 (ipykernel)",
   "language": "python",
   "name": "python3"
  },
  "language_info": {
   "codemirror_mode": {
    "name": "ipython",
    "version": 3
   },
   "file_extension": ".py",
   "mimetype": "text/x-python",
   "name": "python",
   "nbconvert_exporter": "python",
   "pygments_lexer": "ipython3",
   "version": "3.8.13"
  }
 },
 "nbformat": 4,
 "nbformat_minor": 5
}
